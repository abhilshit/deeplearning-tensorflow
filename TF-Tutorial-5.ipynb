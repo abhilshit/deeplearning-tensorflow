{
 "cells": [
  {
   "cell_type": "code",
   "execution_count": 169,
   "metadata": {
    "collapsed": true
   },
   "outputs": [],
   "source": [
    "import os\n",
    "import tensorflow as tf\n",
    "import Image\n",
    "import matplotlib.pyplot as plt\n",
    "%matplotlib inline\n",
    "import numpy as np\n",
    "from tensorflow.python.framework import ops\n",
    "from random import randint\n",
    "import matplotlib.image as mpimg\n"
   ]
  },
  {
   "cell_type": "code",
   "execution_count": 184,
   "metadata": {},
   "outputs": [
    {
     "name": "stdout",
     "output_type": "stream",
     "text": [
      "48\n",
      "/data/tutorial/test/00014_00003.jpg\n",
      "0\n",
      "(1, 64, 64, 3)\n",
      "(12288, 1)\n",
      "(12288, 1)\n"
     ]
    },
    {
     "data": {
      "image/png": "[encoded data removed]",
      "text/plain": [
       "<matplotlib.figure.Figure at 0x7f4633f7d510>"
      ]
     },
     "metadata": {},
     "output_type": "display_data"
    }
   ],
   "source": [
    "filenames = [];\n",
    "labels = [];\n",
    "for filename in os.listdir(\"/data/tutorial/test\"):\n",
    "    if filename.endswith(\".jpg\"):\n",
    "        filenames.append(\"/data/tutorial/test/\"+filename)\n",
    "        if filename.startswith(\"14_\"):\n",
    "            labels.append(1)\n",
    "        else:\n",
    "            labels.append(0)\n",
    "\n",
    "index  = randint(0, len(filenames))\n",
    "print(index)\n",
    "print(filenames[index])\n",
    "print(labels[index])\n",
    "y=labels[index]\n",
    "if y==0:\n",
    "    y=np.array([[1,0]])\n",
    "else:\n",
    "     y=np.array([[0,1]])\n",
    "img = mpimg.imread(filenames[index])\n",
    "plt.imshow(img)\n",
    "image_data = np.array([np.array(Image.open(filenames[index]))])\n",
    "print(image_data.shape)\n",
    "X_train_flatten = image_data.reshape(image_data.shape[0], -1).T\n",
    "print(X_train_flatten.shape)\n",
    "X_train_flatten=X_train_flatten/255\n",
    "print(X_train_flatten.shape)"
   ]
  },
  {
   "cell_type": "code",
   "execution_count": 185,
   "metadata": {},
   "outputs": [
    {
     "name": "stdout",
     "output_type": "stream",
     "text": [
      "(12288, 1)\n",
      "INFO:tensorflow:Restoring parameters from /data/tutorial/stop_sign_model/model\n",
      "Given image is a not a Stop Sign\n"
     ]
    }
   ],
   "source": [
    "tf.reset_default_graph()\n",
    "import scipy\n",
    "from PIL import Image\n",
    "from scipy import ndimage\n",
    "\n",
    "fname = filenames[index]\n",
    "image = np.array(ndimage.imread(fname, flatten=False))\n",
    "my_image = scipy.misc.imresize(image, size=(64, 64)).reshape((1, 64 * 64 * 3)).T\n",
    "my_image = my_image/255\n",
    "print(my_image.shape)\n",
    "\n",
    "with tf.Session() as sess:  \n",
    "    saver = tf.train.import_meta_graph('/data/tutorial/stop_sign_model/model.meta')\n",
    "    saver.restore(sess,tf.train.latest_checkpoint('/data/tutorial/stop_sign_model/'))\n",
    "    graph = tf.get_default_graph()\n",
    "    X = graph.get_tensor_by_name(\"X:0\")\n",
    "    Z3 = sess.run('Add_2:0', feed_dict={X: my_image})\n",
    "    correct=tf.equal(tf.argmax(Z3),tf.argmax(y))\n",
    "    out = sess.run(tf.argmax(Z3))\n",
    "    #print(sess.run(correct))\n",
    "    Z3 = np.array([Z3[0][0],Z3[1][0]])\n",
    "    probs =  sess.run(tf.nn.softmax(Z3))\n",
    "    #print(probs)\n",
    "    \n",
    "    if out==0:\n",
    "        print(\"Given image is a Stop Sign\")\n",
    "    else:\n",
    "        print(\"Given image is a not a Stop Sign\")"
   ]
  },
  {
   "cell_type": "code",
   "execution_count": null,
   "metadata": {
    "collapsed": true
   },
   "outputs": [],
   "source": []
  },
  {
   "cell_type": "code",
   "execution_count": null,
   "metadata": {
    "collapsed": true
   },
   "outputs": [],
   "source": []
  }
 ],
 "metadata": {
  "kernelspec": {
   "display_name": "Python 2",
   "language": "python",
   "name": "python2"
  },
  "language_info": {
   "codemirror_mode": {
    "name": "ipython",
    "version": 2
   },
   "file_extension": ".py",
   "mimetype": "text/x-python",
   "name": "python",
   "nbconvert_exporter": "python",
   "pygments_lexer": "ipython2",
   "version": "2.7.12"
  }
 },
 "nbformat": 4,
 "nbformat_minor": 2
}
