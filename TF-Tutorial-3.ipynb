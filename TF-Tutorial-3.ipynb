{
 "cells": [
  {
   "cell_type": "code",
   "execution_count": 67,
   "metadata": {
    "collapsed": true
   },
   "outputs": [],
   "source": [
    "import os\n",
    "import tensorflow as tf\n",
    "import Image\n",
    "import matplotlib.pyplot as plt\n",
    "%matplotlib inline\n",
    "import numpy as np"
   ]
  },
  {
   "cell_type": "code",
   "execution_count": 76,
   "metadata": {},
   "outputs": [
    {
     "name": "stdout",
     "output_type": "stream",
     "text": [
      "3000\n",
      "50\n"
     ]
    }
   ],
   "source": [
    "filenames = [];\n",
    "for filename in os.listdir(\"/data/tutorial/stop_sign_jpg\"):\n",
    "    if filename.endswith(\".jpg\"):\n",
    "        filenames.append(\"/data/tutorial/stop_sign_jpg/\"+filename)\n",
    "\n",
    "filenames_test = [];\n",
    "for filename in os.listdir(\"/data/tutorial/test\"):\n",
    "    if filename.endswith(\".jpg\"):\n",
    "        filenames_test.append(\"/data/tutorial/test/\"+filename)\n",
    "\n",
    "width = 64\n",
    "height = 64\n",
    "\n",
    "print(len(filenames))\n",
    "print(len(filenames_test))"
   ]
  },
  {
   "cell_type": "code",
   "execution_count": 77,
   "metadata": {
    "collapsed": true
   },
   "outputs": [],
   "source": [
    "for fname in filenames:\n",
    "    im = Image.open(fname)\n",
    "    im = im.resize((width, height), Image.ANTIALIAS)    # best down-sizing filter\n",
    "    im.save(fname)\n",
    "for fname in filenames_test:\n",
    "    im = Image.open(fname)\n",
    "    im = im.resize((width, height), Image.ANTIALIAS)    # best down-sizing filter\n",
    "    im.save(fname)"
   ]
  },
  {
   "cell_type": "code",
   "execution_count": 72,
   "metadata": {},
   "outputs": [
    {
     "data": {
      "text/plain": [
       "<matplotlib.image.AxesImage at 0x7fb4f0227b90>"
      ]
     },
     "execution_count": 72,
     "metadata": {},
     "output_type": "execute_result"
    },
    {
     "data": {
      "image/png": "[encoded data removed]",
      "text/plain": [
       "<matplotlib.figure.Figure at 0x7fb4f0488450>"
      ]
     },
     "metadata": {},
     "output_type": "display_data"
    }
   ],
   "source": [
    "import matplotlib.image as mpimg\n",
    "img = mpimg.imread(filenames[0])\n",
    "plt.imshow(img)"
   ]
  },
  {
   "cell_type": "code",
   "execution_count": 73,
   "metadata": {},
   "outputs": [
    {
     "name": "stdout",
     "output_type": "stream",
     "text": [
      "(64, 64, 3)\n"
     ]
    }
   ],
   "source": [
    "print(img.shape)"
   ]
  },
  {
   "cell_type": "code",
   "execution_count": null,
   "metadata": {
    "collapsed": true
   },
   "outputs": [],
   "source": []
  }
 ],
 "metadata": {
  "kernelspec": {
   "display_name": "Python 2",
   "language": "python",
   "name": "python2"
  },
  "language_info": {
   "codemirror_mode": {
    "name": "ipython",
    "version": 2
   },
   "file_extension": ".py",
   "mimetype": "text/x-python",
   "name": "python",
   "nbconvert_exporter": "python",
   "pygments_lexer": "ipython2",
   "version": "2.7.12"
  }
 },
 "nbformat": 4,
 "nbformat_minor": 2
}
